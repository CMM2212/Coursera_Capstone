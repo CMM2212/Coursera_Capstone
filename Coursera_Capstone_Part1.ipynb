{
  "nbformat": 4,
  "nbformat_minor": 0,
  "metadata": {
    "colab": {
      "name": "Coursera_Capstone_Part1",
      "provenance": [],
      "authorship_tag": "ABX9TyMk0Rp0124FDNdZmMjCkf5P",
      "include_colab_link": true
    },
    "kernelspec": {
      "name": "python3",
      "display_name": "Python 3"
    }
  },
  "cells": [
    {
      "cell_type": "markdown",
      "metadata": {
        "id": "view-in-github",
        "colab_type": "text"
      },
      "source": [
        "<a href=\"https://colab.research.google.com/github/CMM2212/Coursera_Capstone/blob/master/Coursera_Capstone_Part1.ipynb\" target=\"_parent\"><img src=\"https://colab.research.google.com/assets/colab-badge.svg\" alt=\"Open In Colab\"/></a>"
      ]
    },
    {
      "cell_type": "markdown",
      "metadata": {
        "id": "KAJQQXGqa0i8",
        "colab_type": "text"
      },
      "source": [
        "This Notebook will be mainly used for the capstone project"
      ]
    },
    {
      "cell_type": "code",
      "metadata": {
        "id": "436eZuLocojP",
        "colab_type": "code",
        "colab": {
          "base_uri": "https://localhost:8080/",
          "height": 34
        },
        "outputId": "61358965-aaf7-4eb5-c65c-316df47e2928"
      },
      "source": [
        "import pandas as pd\n",
        "import numpy as np\n",
        "\n",
        "print('Hello Capstone Project Course!')"
      ],
      "execution_count": 1,
      "outputs": [
        {
          "output_type": "stream",
          "text": [
            "Hello Capstone Project Course!\n"
          ],
          "name": "stdout"
        }
      ]
    },
    {
      "cell_type": "code",
      "metadata": {
        "id": "C7Yg_3PTefCN",
        "colab_type": "code",
        "colab": {}
      },
      "source": [
        ""
      ],
      "execution_count": null,
      "outputs": []
    }
  ]
}